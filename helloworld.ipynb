{
 "cells": [
  {
   "cell_type": "code",
   "execution_count": 3,
   "id": "36d53a32-2ad8-4343-a6a8-46386342c5e8",
   "metadata": {},
   "outputs": [
    {
     "name": "stdout",
     "output_type": "stream",
     "text": [
      "Collecting jovian\n",
      "  Downloading jovian-0.2.41-py2.py3-none-any.whl (68 kB)\n",
      "Requirement already satisfied: requests in c:\\users\\darsh\\desktop\\flask\\venv\\lib\\site-packages (from jovian) (2.25.1)\n",
      "Collecting uuid\n",
      "  Using cached uuid-1.30.tar.gz (5.8 kB)\n",
      "Collecting pyyaml\n",
      "  Using cached PyYAML-5.4.1-cp39-cp39-win_amd64.whl (213 kB)\n",
      "Requirement already satisfied: click in c:\\users\\darsh\\desktop\\flask\\venv\\lib\\site-packages (from jovian) (8.0.1)\n",
      "Requirement already satisfied: urllib3<1.27,>=1.21.1 in c:\\users\\darsh\\desktop\\flask\\venv\\lib\\site-packages (from requests->jovian) (1.26.6)\n",
      "Requirement already satisfied: chardet<5,>=3.0.2 in c:\\users\\darsh\\desktop\\flask\\venv\\lib\\site-packages (from requests->jovian) (4.0.0)\n",
      "Collecting idna<3,>=2.5\n",
      "  Using cached idna-2.10-py2.py3-none-any.whl (58 kB)\n",
      "Requirement already satisfied: certifi>=2017.4.17 in c:\\users\\darsh\\desktop\\flask\\venv\\lib\\site-packages (from requests->jovian) (2021.5.30)\n",
      "Requirement already satisfied: colorama; platform_system == \"Windows\" in c:\\users\\darsh\\desktop\\flask\\venv\\lib\\site-packages (from click->jovian) (0.4.4)\n",
      "Using legacy 'setup.py install' for uuid, since package 'wheel' is not installed.\n",
      "Installing collected packages: uuid, pyyaml, jovian, idna\n",
      "    Running setup.py install for uuid: started\n",
      "    Running setup.py install for uuid: finished with status 'done'\n",
      "  Attempting uninstall: idna\n",
      "    Found existing installation: idna 3.2\n",
      "    Uninstalling idna-3.2:\n",
      "      Successfully uninstalled idna-3.2\n",
      "Successfully installed idna-2.10 jovian-0.2.41 pyyaml-5.4.1 uuid-1.30\n"
     ]
    },
    {
     "name": "stderr",
     "output_type": "stream",
     "text": [
      "WARNING: You are using pip version 20.2.3; however, version 21.1.3 is available.\n",
      "You should consider upgrading via the 'c:\\users\\darsh\\desktop\\flask\\venv\\scripts\\python.exe -m pip install --upgrade pip' command.\n"
     ]
    }
   ],
   "source": [
    "!pip install jovian "
   ]
  },
  {
   "cell_type": "code",
   "execution_count": 4,
   "id": "c52b47a4-7f51-4b3a-ab06-40f12a9c4410",
   "metadata": {},
   "outputs": [
    {
     "data": {
      "application/javascript": [
       "if (window.IPython && IPython.notebook.kernel) IPython.notebook.kernel.execute('jovian.utils.jupyter.get_notebook_name_saved = lambda: \"' + IPython.notebook.notebook_name + '\"')"
      ],
      "text/plain": [
       "<IPython.core.display.Javascript object>"
      ]
     },
     "metadata": {},
     "output_type": "display_data"
    }
   ],
   "source": [
    "import jovian"
   ]
  },
  {
   "cell_type": "code",
   "execution_count": 5,
   "id": "bd005244-6703-4852-81fd-e13879d5544b",
   "metadata": {},
   "outputs": [],
   "source": [
    "project = \"demo-flask\"\n",
    "files = ['environment.yml', 'hello.py']"
   ]
  },
  {
   "cell_type": "code",
   "execution_count": 8,
   "id": "d83a8090-9412-41e8-ba02-b12f4c849121",
   "metadata": {},
   "outputs": [
    {
     "data": {
      "application/javascript": [
       "window.require && require([\"base/js/namespace\"],function(Jupyter){Jupyter.notebook.save_checkpoint()})"
      ],
      "text/plain": [
       "<IPython.core.display.Javascript object>"
      ]
     },
     "metadata": {},
     "output_type": "display_data"
    },
    {
     "name": "stdout",
     "output_type": "stream",
     "text": [
      "[jovian] Creating a new project \"shahdarshil622/demo-flask\"\u001b[0m\n",
      "[jovian] Uploading additional files...\u001b[0m\n",
      "[jovian] Committed successfully! https://jovian.ai/shahdarshil622/demo-flask\u001b[0m\n"
     ]
    },
    {
     "data": {
      "text/plain": [
       "'https://jovian.ai/shahdarshil622/demo-flask'"
      ]
     },
     "execution_count": 8,
     "metadata": {},
     "output_type": "execute_result"
    }
   ],
   "source": [
    "jovian.commit(filename = 'helloworld.ipynb',project = project, files = files)"
   ]
  },
  {
   "cell_type": "code",
   "execution_count": 9,
   "id": "05c2d5aa-d9ec-41a8-bd4f-a9e24e78ed75",
   "metadata": {},
   "outputs": [
    {
     "name": "stdout",
     "output_type": "stream",
     "text": [
      "Requirement already satisfied: Flask in c:\\users\\darsh\\desktop\\flask\\venv\\lib\\site-packages (2.0.1)\n",
      "Requirement already satisfied: click>=7.1.2 in c:\\users\\darsh\\desktop\\flask\\venv\\lib\\site-packages (from Flask) (8.0.1)\n",
      "Requirement already satisfied: itsdangerous>=2.0 in c:\\users\\darsh\\desktop\\flask\\venv\\lib\\site-packages (from Flask) (2.0.1)\n",
      "Requirement already satisfied: Jinja2>=3.0 in c:\\users\\darsh\\desktop\\flask\\venv\\lib\\site-packages (from Flask) (3.0.1)\n",
      "Requirement already satisfied: Werkzeug>=2.0 in c:\\users\\darsh\\desktop\\flask\\venv\\lib\\site-packages (from Flask) (2.0.1)\n",
      "Requirement already satisfied: colorama; platform_system == \"Windows\" in c:\\users\\darsh\\desktop\\flask\\venv\\lib\\site-packages (from click>=7.1.2->Flask) (0.4.4)\n",
      "Requirement already satisfied: MarkupSafe>=2.0 in c:\\users\\darsh\\desktop\\flask\\venv\\lib\\site-packages (from Jinja2>=3.0->Flask) (2.0.1)\n"
     ]
    },
    {
     "name": "stderr",
     "output_type": "stream",
     "text": [
      "WARNING: You are using pip version 20.2.3; however, version 21.1.3 is available.\n",
      "You should consider upgrading via the 'c:\\users\\darsh\\desktop\\flask\\venv\\scripts\\python.exe -m pip install --upgrade pip' command.\n"
     ]
    }
   ],
   "source": [
    "!pip install Flask"
   ]
  },
  {
   "cell_type": "code",
   "execution_count": 11,
   "id": "a2b85abf-b86e-45f7-ac6a-dd6f9da91242",
   "metadata": {},
   "outputs": [
    {
     "name": "stdout",
     "output_type": "stream",
     "text": [
      " * Serving Flask app '__main__' (lazy loading)\n",
      " * Environment: production\n",
      "\u001b[31m   WARNING: This is a development server. Do not use it in a production deployment.\u001b[0m\n",
      "\u001b[2m   Use a production WSGI server instead.\u001b[0m\n",
      " * Debug mode: off\n"
     ]
    },
    {
     "name": "stderr",
     "output_type": "stream",
     "text": [
      " * Running on http://127.0.0.1:5000/ (Press CTRL+C to quit)\n",
      "127.0.0.1 - - [08/Jul/2021 18:18:24] \"GET / HTTP/1.1\" 200 -\n"
     ]
    }
   ],
   "source": [
    "from flask import Flask\n",
    "app = Flask(__name__)\n",
    "\n",
    "@app.route(\"/\")\n",
    "def helloworld():\n",
    "\treturn \"<p>helloworld</p>\"\n",
    "\n",
    "if __name__ == '__main__':\n",
    "\tapp.run()"
   ]
  },
  {
   "cell_type": "code",
   "execution_count": null,
   "id": "1660e686-5d29-4189-bdcb-292271bb0d1e",
   "metadata": {},
   "outputs": [],
   "source": []
  },
  {
   "cell_type": "code",
   "execution_count": null,
   "id": "c4ac4766-a9f4-44b4-9dd2-d061a288d83c",
   "metadata": {},
   "outputs": [],
   "source": []
  }
 ],
 "metadata": {
  "kernelspec": {
   "display_name": "Python 3 (ipykernel)",
   "language": "python",
   "name": "python3"
  },
  "language_info": {
   "codemirror_mode": {
    "name": "ipython",
    "version": 3
   },
   "file_extension": ".py",
   "mimetype": "text/x-python",
   "name": "python",
   "nbconvert_exporter": "python",
   "pygments_lexer": "ipython3",
   "version": "3.9.1"
  }
 },
 "nbformat": 4,
 "nbformat_minor": 5
}
